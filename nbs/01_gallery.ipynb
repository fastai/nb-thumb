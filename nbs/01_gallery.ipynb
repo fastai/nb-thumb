{
 "cells": [
  {
   "cell_type": "markdown",
   "id": "cb89f5f8-d1f4-4dac-a4ed-0f5280ff5905",
   "metadata": {},
   "source": [
    "# gallery\n",
    "> Arrange thumbnails as a gallery"
   ]
  },
  {
   "cell_type": "code",
   "execution_count": null,
   "id": "615f650e-3a54-4dcc-8e58-51ad8f90dac4",
   "metadata": {},
   "outputs": [],
   "source": [
    "#|default_exp gallery"
   ]
  },
  {
   "cell_type": "code",
   "execution_count": null,
   "id": "a35a0b87-e6a1-4105-856a-a64a9efbbe4c",
   "metadata": {},
   "outputs": [],
   "source": [
    "#|export\n",
    "from nb_thumb.thumb import nb2thumb\n",
    "from pathlib import Path\n",
    "from fastcore.foundation import L\n",
    "from fastcore.utils import mkdir\n",
    "from fastcore.test import test_eq"
   ]
  },
  {
   "cell_type": "code",
   "execution_count": null,
   "id": "6806692a-2964-4ab2-a63e-7ac5e8a67c0c",
   "metadata": {},
   "outputs": [],
   "source": [
    "#|export\n",
    "def emb_img(nb_path:str, # the path to the notebook\n",
    "            label:str, # the label indicating the cell where the plot is\n",
    "            caption:str='', # the caption, will be inferred from label if not specified.\n",
    "            anchor='#example', # anchor tag in source page\n",
    "           size=(150,150) # size of the thumbnail\n",
    "           ) -> str:\n",
    "    \"Embed a thumbnail image as a markdown cell.\"\n",
    "    if not caption: caption = label.replace('_', ' ').title()\n",
    "    d = mkdir(f'{Path(nb_path).stem}_data', exist_ok=True)\n",
    "    img = nb2thumb(nb_path, label=label, size=size)\n",
    "    outfile = d/f'{label}.png'\n",
    "    img.save(outfile)\n",
    "    \n",
    "    return f\"\"\"\n",
    "::: {{.g-col-6 .g-col-md-6 .mb-4 .border .rounded .shadow-sm .d-flex .flex-column .justify-content-center .align-items-center .px-3}}\n",
    "\n",
    "![]({outfile}){{.plot-gallery}}\n",
    "\n",
    "[{caption}]({nb_path}{anchor})\n",
    "\n",
    ":::\n",
    "\"\"\" "
   ]
  },
  {
   "cell_type": "markdown",
   "id": "5f2ee70c-a30e-4e5d-bf24-d9a15b9b90f5",
   "metadata": {},
   "source": [
    "We can embed an image with markdown like this:"
   ]
  },
  {
   "cell_type": "code",
   "execution_count": null,
   "id": "ff0b4538-de2c-4887-a412-1f91bf080f0d",
   "metadata": {},
   "outputs": [
    {
     "name": "stdout",
     "output_type": "stream",
     "text": [
      "\n",
      "::: {.g-col-6 .g-col-md-6 .mb-4 .border .rounded .shadow-sm .d-flex .flex-column .justify-content-center .align-items-center .px-3}\n",
      "\n",
      "![](geom_col_data/two_variable_bar_plot.png){.plot-gallery}\n",
      "\n",
      "[Two Variable Bar Plot](test_nbs/geom_col.ipynb#example)\n",
      "\n",
      ":::\n",
      "\n"
     ]
    }
   ],
   "source": [
    "#|output: asis\n",
    "md = emb_img(nb_path='test_nbs/geom_col.ipynb', \n",
    "             label='two_variable_bar_plot')\n",
    "print(md)"
   ]
  },
  {
   "cell_type": "code",
   "execution_count": null,
   "id": "156111a2-8780-4996-8b53-7dfd0bababe0",
   "metadata": {},
   "outputs": [],
   "source": [
    "#|hide\n",
    "test_eq(md, \"\"\"\n",
    "::: {.g-col-6 .g-col-md-6 .mb-4 .border .rounded .shadow-sm .d-flex .flex-column .justify-content-center .align-items-center .px-3}\n",
    "\n",
    "![](geom_col_data/two_variable_bar_plot.png){.plot-gallery}\n",
    "\n",
    "[Two Variable Bar Plot](test_nbs/geom_col.ipynb#example)\n",
    "\n",
    ":::\n",
    "\"\"\")"
   ]
  },
  {
   "cell_type": "markdown",
   "id": "203e4032-3b56-4d75-b309-ccff19063480",
   "metadata": {},
   "source": [
    "## Create a gallery"
   ]
  },
  {
   "cell_type": "code",
   "execution_count": null,
   "id": "c21a5cce-7aeb-48e1-a186-e5e76db2f285",
   "metadata": {},
   "outputs": [],
   "source": [
    "#|export\n",
    "def gallery(plots:list[dict] # a list of dictionaries which contain arguments for `emb_img`.\n",
    "           ) -> str:\n",
    "    \"Arrange plots into a gallery.\"\n",
    "    md = L(plots).map(lambda x: emb_img(**x))\n",
    "    return '\\n::: {.content-block .grid .gap-4}\\n' + '\\n'.join(md) + '\\n:::'\n",
    "        "
   ]
  },
  {
   "cell_type": "markdown",
   "id": "1565be47-8536-4036-a831-ccbb863f05af",
   "metadata": {},
   "source": [
    "To use `gallery`, you must construct a list of dicts whose keys are arguments to `emb_img`:"
   ]
  },
  {
   "cell_type": "code",
   "execution_count": null,
   "id": "66bf73fe-ea67-4f0d-8f3f-c6f788c1fc91",
   "metadata": {},
   "outputs": [],
   "source": [
    "plots = \\\n",
    "[\n",
    "dict(nb_path= 'test_nbs/geom_col.ipynb', \n",
    "      label='two_variable_bar_plot'),\n",
    "dict(nb_path='test_nbs/PlotnineAnimation.ipynb', \n",
    "     label='spiral'),\n",
    "dict(nb_path='test_nbs/geom_density.ipynb', \n",
    "     label='density_curve'),\n",
    "dict(nb_path='test_nbs/geom_map.ipynb', \n",
    "     label='map'),\n",
    "dict(nb_path='test_nbs/geom_segment.ipynb', \n",
    "     label='ranges'),\n",
    "dict(nb_path='test_nbs/geom_segment.ipynb',\n",
    "     label='rank')\n",
    "]"
   ]
  },
  {
   "cell_type": "markdown",
   "id": "094af714-0e79-43a6-add5-d6cab44ea3ad",
   "metadata": {},
   "source": [
    ":::{.callout-important}\n",
    "\n",
    "### Customize your css styles\n",
    "\n",
    "For this gallery to show up well in Quarto, we recommend including the following css in your quarto project:\n",
    "\n",
    "```css\n",
    "/* css styles */\n",
    ".plot-gallery {\n",
    "  height: 175px;\n",
    "  object-fit: contain;\n",
    "}\n",
    "```\n",
    "\n",
    "Note that the class `plot-gallery` is inserted by `gallery` around each image.\n",
    "\n",
    ":::"
   ]
  },
  {
   "cell_type": "code",
   "execution_count": null,
   "id": "08897928-8483-4868-b560-4cb758d8725e",
   "metadata": {},
   "outputs": [
    {
     "name": "stdout",
     "output_type": "stream",
     "text": [
      "\n",
      "::: {.content-block .grid .gap-4}\n",
      "\n",
      "::: {.g-col-6 .g-col-md-6 .mb-4 .border .rounded .shadow-sm .d-flex .flex-column .justify-content-center .align-items-center .px-3}\n",
      "\n",
      "![](geom_col_data/two_variable_bar_plot.png){.plot-gallery}\n",
      "\n",
      "[Two Variable Bar Plot](test_nbs/geom_col.ipynb#example)\n",
      "\n",
      ":::\n",
      "\n",
      "\n",
      "::: {.g-col-6 .g-col-md-6 .mb-4 .border .rounded .shadow-sm .d-flex .flex-column .justify-content-center .align-items-center .px-3}\n",
      "\n",
      "![](PlotnineAnimation_data/spiral.png){.plot-gallery}\n",
      "\n",
      "[Spiral](test_nbs/PlotnineAnimation.ipynb#example)\n",
      "\n",
      ":::\n",
      "\n",
      "\n",
      "::: {.g-col-6 .g-col-md-6 .mb-4 .border .rounded .shadow-sm .d-flex .flex-column .justify-content-center .align-items-center .px-3}\n",
      "\n",
      "![](geom_density_data/density_curve.png){.plot-gallery}\n",
      "\n",
      "[Density Curve](test_nbs/geom_density.ipynb#example)\n",
      "\n",
      ":::\n",
      "\n",
      "\n",
      "::: {.g-col-6 .g-col-md-6 .mb-4 .border .rounded .shadow-sm .d-flex .flex-column .justify-content-center .align-items-center .px-3}\n",
      "\n",
      "![](geom_map_data/map.png){.plot-gallery}\n",
      "\n",
      "[Map](test_nbs/geom_map.ipynb#example)\n",
      "\n",
      ":::\n",
      "\n",
      "\n",
      "::: {.g-col-6 .g-col-md-6 .mb-4 .border .rounded .shadow-sm .d-flex .flex-column .justify-content-center .align-items-center .px-3}\n",
      "\n",
      "![](geom_segment_data/ranges.png){.plot-gallery}\n",
      "\n",
      "[Ranges](test_nbs/geom_segment.ipynb#example)\n",
      "\n",
      ":::\n",
      "\n",
      "\n",
      "::: {.g-col-6 .g-col-md-6 .mb-4 .border .rounded .shadow-sm .d-flex .flex-column .justify-content-center .align-items-center .px-3}\n",
      "\n",
      "![](geom_segment_data/rank.png){.plot-gallery}\n",
      "\n",
      "[Rank](test_nbs/geom_segment.ipynb#example)\n",
      "\n",
      ":::\n",
      "\n",
      ":::\n"
     ]
    }
   ],
   "source": [
    "#|output:asis\n",
    "print(gallery(plots))"
   ]
  }
 ],
 "metadata": {
  "kernelspec": {
   "display_name": "python3",
   "language": "python",
   "name": "python3"
  }
 },
 "nbformat": 4,
 "nbformat_minor": 5
}
